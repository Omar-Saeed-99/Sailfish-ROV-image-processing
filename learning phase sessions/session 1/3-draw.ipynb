{
  "nbformat": 4,
  "nbformat_minor": 0,
  "metadata": {
    "colab": {
      "name": "Untitled24.ipynb",
      "provenance": []
    },
    "kernelspec": {
      "name": "python3",
      "display_name": "Python 3"
    },
    "language_info": {
      "name": "python"
    }
  },
  "cells": [
    {
      "cell_type": "code",
      "execution_count": 2,
      "metadata": {
        "id": "zQwQo8WJv_QV"
      },
      "outputs": [],
      "source": [
        "import cv2\n",
        "import numpy as np  \n",
        "from google.colab.patches import cv2_imshow\n",
        "import matplotlib.pylab as plt"
      ]
    },
    {
      "cell_type": "code",
      "source": [
        "black = np.zeros((500,500,3)) # create an black image"
      ],
      "metadata": {
        "id": "qsMLQZlowIN3"
      },
      "execution_count": 5,
      "outputs": []
    },
    {
      "cell_type": "code",
      "source": [
        "cv2_imshow(black)"
      ],
      "metadata": {
        "colab": {
          "base_uri": "https://localhost:8080/",
          "height": 517
        },
        "id": "HEBtdf_IwRlH",
        "outputId": "df623b53-60ca-4063-db45-b165151c2f0b"
      },
      "execution_count": 6,
      "outputs": [
        {
          "output_type": "display_data",
          "data": {
            "text/plain": [
              "<PIL.Image.Image image mode=RGB size=500x500 at 0x7F1FD3275690>"
            ],
            "image/png": "[encoded data removed]"
          },
          "metadata": {}
        }
      ]
    },
    {
      "cell_type": "markdown",
      "source": [
        "To draw any shape on the image, we treat it as a diagram in the x y coordinate"
      ],
      "metadata": {
        "id": "2QbPSKugcrMh"
      }
    },
    {
      "cell_type": "markdown",
      "source": [
        "To draw a square, we need to specify two points and the function connects them"
      ],
      "metadata": {
        "id": "3J6piCGqcvZy"
      }
    },
    {
      "cell_type": "code",
      "source": [
        "             #image , point 1 , point 2,color    ,thickness \n",
        "cv2.rectangle(black,(300,300),(400,400),[0,255,0],3); \n"
      ],
      "metadata": {
        "id": "LmrlC7FiwStl"
      },
      "execution_count": 7,
      "outputs": []
    },
    {
      "cell_type": "code",
      "source": [
        "cv2_imshow(black)"
      ],
      "metadata": {
        "colab": {
          "base_uri": "https://localhost:8080/",
          "height": 517
        },
        "id": "bR87eQtWxBQH",
        "outputId": "3b697bb7-d515-47f8-ea46-3edc5732633f"
      },
      "execution_count": 8,
      "outputs": [
        {
          "output_type": "display_data",
          "data": {
            "text/plain": [
              "<PIL.Image.Image image mode=RGB size=500x500 at 0x7F1FD3237AD0>"
            ],
            "image/png": "[encoded data removed]"
          },
          "metadata": {}
        }
      ]
    },
    {
      "cell_type": "code",
      "source": [
        "        #imagemcenterpoint,raduis,,color,thickness \n",
        "cv2.circle(black, (250,250),50, [0,175,255], -1);"
      ],
      "metadata": {
        "id": "SaNzjoV8xFON"
      },
      "execution_count": 13,
      "outputs": []
    },
    {
      "cell_type": "code",
      "source": [
        "cv2_imshow(black)"
      ],
      "metadata": {
        "colab": {
          "base_uri": "https://localhost:8080/",
          "height": 517
        },
        "id": "GfmDpZoTcTQ1",
        "outputId": "879e8fc7-75ae-4bca-aa17-0dcd14828f6d"
      },
      "execution_count": 14,
      "outputs": [
        {
          "output_type": "display_data",
          "data": {
            "text/plain": [
              "<PIL.Image.Image image mode=RGB size=500x500 at 0x7F1FD3215E50>"
            ],
            "image/png": "[encoded data removed]"
          },
          "metadata": {}
        }
      ]
    },
    {
      "cell_type": "code",
      "source": [
        ""
      ],
      "metadata": {
        "id": "ADxWjDvkcV2m"
      },
      "execution_count": null,
      "outputs": []
    }
  ]
}